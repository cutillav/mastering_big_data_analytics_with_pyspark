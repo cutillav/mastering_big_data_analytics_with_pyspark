{
 "cells": [
  {
   "cell_type": "code",
   "execution_count": 1,
   "metadata": {},
   "outputs": [],
   "source": [
    "from pyspark.sql import SparkSession\n",
    "from pyspark.sql import functions as f\n",
    "\n",
    "spark = SparkSession.builder.appName(\"Chapter4-4\").getOrCreate()\n",
    "RATINGS_CSV_LOCATION = \"/home/jovyan/data-sets/ml-latest-small/ratings.csv\""
   ]
  },
  {
   "cell_type": "code",
   "execution_count": 3,
   "metadata": {},
   "outputs": [],
   "source": [
    "ratings = (\n",
    "    spark.read.csv(\n",
    "        path=RATINGS_CSV_LOCATION,\n",
    "        sep=\",\",\n",
    "        header=True,\n",
    "        quote='\"',\n",
    "        schema=\"userId INT, movieId INT, rating DOUBLE, timestamp INT\",\n",
    "    )\n",
    "    # .withColumn(\"timestamp\", f.to_timestamp(f.from_unixtime(\"timestamp\")))\n",
    "    .select(\"userId\", \"movieId\", \"rating\")\n",
    "    .cache()\n",
    ")"
   ]
  },
  {
   "cell_type": "markdown",
   "metadata": {},
   "source": [
    "The ALS class has this signature:\n",
    "\n",
    "```python\n",
    "class pyspark.ml.recommendation.ALS(\n",
    "    rank=10,\n",
    "    maxIter=10,\n",
    "    regParam=0.1,\n",
    "    numUserBlocks=10,\n",
    "    numItemBlocks=10,\n",
    "    implicitPrefs=False,\n",
    "    alpha=1.0,\n",
    "    userCol=\"user\",\n",
    "    itemCol=\"item\",\n",
    "    seed=None,\n",
    "    ratingCol=\"rating\",\n",
    "    nonnegative=False,\n",
    "    checkpointInterval=10,\n",
    "    intermediateStorageLevel=\"MEMORY_AND_DISK\",\n",
    "    finalStorageLevel=\"MEMORY_AND_DISK\",\n",
    "    coldStartStrategy=\"nan\",\n",
    ")\n",
    "```"
   ]
  },
  {
   "cell_type": "code",
   "execution_count": 4,
   "metadata": {},
   "outputs": [],
   "source": [
    "from pyspark.ml.recommendation import ALS\n",
    "from pyspark.ml.evaluation import RegressionEvaluator"
   ]
  },
  {
   "cell_type": "code",
   "execution_count": 5,
   "metadata": {},
   "outputs": [],
   "source": [
    "als = ALS(\n",
    "    userCol=\"userId\",\n",
    "    itemCol=\"movieId\",\n",
    "    ratingCol=\"rating\",\n",
    ")\n",
    "\n",
    "(training_data, validation_data) = ratings.randomSplit([8.0, 2.0])\n",
    "\n",
    "evaluator = RegressionEvaluator(\n",
    "    metricName=\"rmse\", labelCol=\"rating\", predictionCol=\"prediction\"\n",
    ")\n",
    "\n",
    "model = als.fit(training_data)\n",
    "predictions = model.transform(validation_data)"
   ]
  },
  {
   "cell_type": "code",
   "execution_count": 6,
   "metadata": {},
   "outputs": [
    {
     "name": "stdout",
     "output_type": "stream",
     "text": [
      "+------+-------+------+----------+\n",
      "|userId|movieId|rating|prediction|\n",
      "+------+-------+------+----------+\n",
      "|436   |471    |3.0   |3.685289  |\n",
      "|555   |471    |3.0   |4.1700554 |\n",
      "|176   |471    |5.0   |3.9755733 |\n",
      "|136   |471    |4.0   |3.17576   |\n",
      "|273   |471    |5.0   |3.438043  |\n",
      "|216   |471    |3.0   |3.7373188 |\n",
      "|469   |471    |5.0   |3.1684062 |\n",
      "|608   |471    |1.5   |2.751447  |\n",
      "|191   |496    |5.0   |NaN       |\n",
      "|307   |833    |1.0   |1.1041915 |\n",
      "+------+-------+------+----------+\n",
      "only showing top 10 rows\n",
      "\n"
     ]
    }
   ],
   "source": [
    "predictions.show(10, False)"
   ]
  },
  {
   "cell_type": "code",
   "execution_count": 7,
   "metadata": {},
   "outputs": [],
   "source": [
    "rmse = evaluator.evaluate(predictions.na.drop())"
   ]
  },
  {
   "cell_type": "code",
   "execution_count": 8,
   "metadata": {},
   "outputs": [
    {
     "name": "stdout",
     "output_type": "stream",
     "text": [
      "0.8841250685065566\n"
     ]
    }
   ],
   "source": [
    "print(rmse)"
   ]
  },
  {
   "cell_type": "code",
   "execution_count": 9,
   "metadata": {},
   "outputs": [],
   "source": [
    "from pyspark.ml.tuning import CrossValidator, ParamGridBuilder\n",
    "\n",
    "parameter_grid = (\n",
    "    ParamGridBuilder()\n",
    "    .addGrid(als.rank, [1, 5, 10])\n",
    "    .addGrid(als.maxIter, [20])\n",
    "    .addGrid(als.regParam, [0.05, 0.1])\n",
    "    .build()\n",
    ")"
   ]
  },
  {
   "cell_type": "code",
   "execution_count": 10,
   "metadata": {},
   "outputs": [
    {
     "data": {
      "text/plain": [
       "list"
      ]
     },
     "execution_count": 10,
     "metadata": {},
     "output_type": "execute_result"
    }
   ],
   "source": [
    "type(parameter_grid)"
   ]
  },
  {
   "cell_type": "code",
   "execution_count": 11,
   "metadata": {},
   "outputs": [
    {
     "name": "stdout",
     "output_type": "stream",
     "text": [
      "[{Param(parent='ALS_7d5cfdb1146e', name='maxIter', doc='max number of iterations (>= 0).'): 20,\n",
      "  Param(parent='ALS_7d5cfdb1146e', name='rank', doc='rank of the factorization'): 1,\n",
      "  Param(parent='ALS_7d5cfdb1146e', name='regParam', doc='regularization parameter (>= 0).'): 0.05},\n",
      " {Param(parent='ALS_7d5cfdb1146e', name='maxIter', doc='max number of iterations (>= 0).'): 20,\n",
      "  Param(parent='ALS_7d5cfdb1146e', name='rank', doc='rank of the factorization'): 1,\n",
      "  Param(parent='ALS_7d5cfdb1146e', name='regParam', doc='regularization parameter (>= 0).'): 0.1},\n",
      " {Param(parent='ALS_7d5cfdb1146e', name='maxIter', doc='max number of iterations (>= 0).'): 20,\n",
      "  Param(parent='ALS_7d5cfdb1146e', name='rank', doc='rank of the factorization'): 5,\n",
      "  Param(parent='ALS_7d5cfdb1146e', name='regParam', doc='regularization parameter (>= 0).'): 0.05},\n",
      " {Param(parent='ALS_7d5cfdb1146e', name='maxIter', doc='max number of iterations (>= 0).'): 20,\n",
      "  Param(parent='ALS_7d5cfdb1146e', name='rank', doc='rank of the factorization'): 5,\n",
      "  Param(parent='ALS_7d5cfdb1146e', name='regParam', doc='regularization parameter (>= 0).'): 0.1},\n",
      " {Param(parent='ALS_7d5cfdb1146e', name='maxIter', doc='max number of iterations (>= 0).'): 20,\n",
      "  Param(parent='ALS_7d5cfdb1146e', name='rank', doc='rank of the factorization'): 10,\n",
      "  Param(parent='ALS_7d5cfdb1146e', name='regParam', doc='regularization parameter (>= 0).'): 0.05},\n",
      " {Param(parent='ALS_7d5cfdb1146e', name='maxIter', doc='max number of iterations (>= 0).'): 20,\n",
      "  Param(parent='ALS_7d5cfdb1146e', name='rank', doc='rank of the factorization'): 10,\n",
      "  Param(parent='ALS_7d5cfdb1146e', name='regParam', doc='regularization parameter (>= 0).'): 0.1}]\n"
     ]
    }
   ],
   "source": [
    "from pprint import pprint\n",
    "\n",
    "pprint(parameter_grid)"
   ]
  },
  {
   "cell_type": "code",
   "execution_count": 12,
   "metadata": {},
   "outputs": [],
   "source": [
    "crossvalidator = CrossValidator(\n",
    "    estimator=als,\n",
    "    estimatorParamMaps=parameter_grid,\n",
    "    evaluator=evaluator,\n",
    "    numFolds=2,\n",
    ")\n",
    "\n",
    "crossval_model = crossvalidator.fit(training_data)\n",
    "predictions = crossval_model.transform(validation_data)\n"
   ]
  },
  {
   "cell_type": "code",
   "execution_count": 13,
   "metadata": {},
   "outputs": [
    {
     "name": "stdout",
     "output_type": "stream",
     "text": [
      "0.9414003459442237\n"
     ]
    }
   ],
   "source": [
    "rmse = evaluator.evaluate(predictions.na.drop())\n",
    "print(rmse)"
   ]
  },
  {
   "cell_type": "code",
   "execution_count": 14,
   "metadata": {},
   "outputs": [],
   "source": [
    "model = crossval_model.bestModel"
   ]
  },
  {
   "cell_type": "code",
   "execution_count": null,
   "metadata": {},
   "outputs": [],
   "source": []
  }
 ],
 "metadata": {
  "kernelspec": {
   "display_name": "Python 3",
   "language": "python",
   "name": "python3"
  },
  "language_info": {
   "codemirror_mode": {
    "name": "ipython",
    "version": 3
   },
   "file_extension": ".py",
   "mimetype": "text/x-python",
   "name": "python",
   "nbconvert_exporter": "python",
   "pygments_lexer": "ipython3",
   "version": "3.7.3"
  }
 },
 "nbformat": 4,
 "nbformat_minor": 2
}

{
 "cells": [
  {
   "cell_type": "code",
   "execution_count": 1,
   "metadata": {},
   "outputs": [],
   "source": [
    "from pyspark.sql import SparkSession\n",
    "from pyspark.sql import functions as f\n",
    "\n",
    "\n",
    "spark = SparkSession.builder.appName(\"Chapter4-3\").getOrCreate()\n",
    "RATINGS_CSV_LOCATION = \"/home/jovyan/data-sets/ml-latest-small/ratings.csv\""
   ]
  },
  {
   "cell_type": "code",
   "execution_count": 2,
   "metadata": {},
   "outputs": [],
   "source": [
    "ratings = (\n",
    "    spark.read.csv(\n",
    "        path=RATINGS_CSV_LOCATION,\n",
    "        sep=\",\",\n",
    "        header=True,\n",
    "        quote='\"',\n",
    "        schema=\"userId INT, movieId INT, rating DOUBLE, timestamp INT\",\n",
    "    )\n",
    "    # .withColumn(\"timestamp\", f.to_timestamp(f.from_unixtime(\"timestamp\")))\n",
    "    .drop(\"timestamp\")\n",
    "    .cache()\n",
    ")"
   ]
  },
  {
   "cell_type": "markdown",
   "metadata": {},
   "source": [
    "The ALS class has this signature:\n",
    "\n",
    "```python\n",
    "class pyspark.ml.recommendation.ALS(\n",
    "    rank=10,\n",
    "    maxIter=10,\n",
    "    regParam=0.1,\n",
    "    numUserBlocks=10,\n",
    "    numItemBlocks=10,\n",
    "    implicitPrefs=False,\n",
    "    alpha=1.0,\n",
    "    userCol=\"user\",\n",
    "    itemCol=\"item\",\n",
    "    seed=None,\n",
    "    ratingCol=\"rating\",\n",
    "    nonnegative=False,\n",
    "    checkpointInterval=10,\n",
    "    intermediateStorageLevel=\"MEMORY_AND_DISK\",\n",
    "    finalStorageLevel=\"MEMORY_AND_DISK\",\n",
    "    coldStartStrategy=\"nan\",\n",
    ")\n",
    "```"
   ]
  },
  {
   "cell_type": "code",
   "execution_count": 3,
   "metadata": {},
   "outputs": [],
   "source": [
    "from pyspark.ml.recommendation import ALS"
   ]
  },
  {
   "cell_type": "code",
   "execution_count": 4,
   "metadata": {},
   "outputs": [],
   "source": [
    "model = (\n",
    "    ALS(\n",
    "        userCol=\"userId\",\n",
    "        itemCol=\"movieId\",\n",
    "        ratingCol=\"rating\",\n",
    "    ).fit(ratings)\n",
    ")"
   ]
  },
  {
   "cell_type": "code",
   "execution_count": 5,
   "metadata": {},
   "outputs": [
    {
     "name": "stdout",
     "output_type": "stream",
     "text": [
      "+------+-------+------+----------+\n",
      "|userId|movieId|rating|prediction|\n",
      "+------+-------+------+----------+\n",
      "|191   |148    |5.0   |4.918388  |\n",
      "|133   |471    |4.0   |3.240957  |\n",
      "|597   |471    |2.0   |3.904796  |\n",
      "|385   |471    |4.0   |3.421205  |\n",
      "|436   |471    |3.0   |3.3957336 |\n",
      "|602   |471    |4.0   |3.3982077 |\n",
      "|91    |471    |1.0   |2.497981  |\n",
      "|409   |471    |3.0   |3.702609  |\n",
      "|372   |471    |3.0   |3.11863   |\n",
      "|599   |471    |2.5   |2.5535092 |\n",
      "+------+-------+------+----------+\n",
      "only showing top 10 rows\n",
      "\n"
     ]
    }
   ],
   "source": [
    "predictions = model.transform(ratings)\n",
    "predictions.show(10, False)"
   ]
  },
  {
   "cell_type": "code",
   "execution_count": 6,
   "metadata": {},
   "outputs": [
    {
     "name": "stdout",
     "output_type": "stream",
     "text": [
      "+---+--------------------+\n",
      "| id|            features|\n",
      "+---+--------------------+\n",
      "| 10|[0.9379934, -0.30...|\n",
      "| 20|[1.0685308, 0.153...|\n",
      "| 30|[1.107887, 0.5763...|\n",
      "| 40|[0.34756732, 0.22...|\n",
      "| 50|[0.19457427, 0.41...|\n",
      "+---+--------------------+\n",
      "only showing top 5 rows\n",
      "\n"
     ]
    }
   ],
   "source": [
    "model.userFactors.show(5)"
   ]
  },
  {
   "cell_type": "code",
   "execution_count": 7,
   "metadata": {},
   "outputs": [
    {
     "name": "stdout",
     "output_type": "stream",
     "text": [
      "+---+--------------------+\n",
      "| id|            features|\n",
      "+---+--------------------+\n",
      "| 10|[0.69911313, 0.31...|\n",
      "| 20|[0.8197691, 0.147...|\n",
      "| 30|[-0.32572478, 0.3...|\n",
      "| 40|[0.24038884, 0.89...|\n",
      "| 50|[0.6135771, 0.661...|\n",
      "+---+--------------------+\n",
      "only showing top 5 rows\n",
      "\n"
     ]
    }
   ],
   "source": [
    "model.itemFactors.show(5)"
   ]
  },
  {
   "cell_type": "code",
   "execution_count": 43,
   "metadata": {},
   "outputs": [],
   "source": []
  },
  {
   "cell_type": "code",
   "execution_count": null,
   "metadata": {},
   "outputs": [],
   "source": []
  }
 ],
 "metadata": {
  "kernelspec": {
   "display_name": "Python 3",
   "language": "python",
   "name": "python3"
  },
  "language_info": {
   "codemirror_mode": {
    "name": "ipython",
    "version": 3
   },
   "file_extension": ".py",
   "mimetype": "text/x-python",
   "name": "python",
   "nbconvert_exporter": "python",
   "pygments_lexer": "ipython3",
   "version": "3.7.3"
  }
 },
 "nbformat": 4,
 "nbformat_minor": 2
}
